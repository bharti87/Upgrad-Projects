{
 "cells": [
  {
   "cell_type": "markdown",
   "metadata": {},
   "source": [
    "# <u> POS tagging using Modified Viterbi Algorithm ::: </u>\n",
    "\n",
    "### Syntactic Processing "
   ]
  },
  {
   "cell_type": "markdown",
   "metadata": {},
   "source": [
    "## Problem Statement :::\n",
    "\n",
    "In this assignment, we need to modify the Viterbi algorithm to solve the problem of unknown words using at least two techniques. Though there could be multiple ways to solve this problem, you may use the following hints:\n",
    "\n",
    "Which tag class do you think most unknown words belong to? Can you identify rules (e.g. based on morphological cues) that can be used to tag unknown words? You may define separate python functions to exploit these rules so that they work in tandem with the original Viterbi algorithm.\n",
    "\n",
    "Why does the Viterbi algorithm choose a random tag on encountering an unknown word? Can you modify the Viterbi algorithm so that it considers only one of the transition or emission probabilities for unknown words?\n",
    " \n",
    "\n",
    "You have been given a 'test' file below containing some sample sentences with unknown words. Look at the sentences and try to observe rules which may be useful to tag unknown words. Your final model will be evaluated on a similar test file.\n",
    "\n",
    "## Data :::\n",
    "For this assignment, you’ll use the Treebank dataset of NLTK with the 'universal' tagset. The Universal tagset of NLTK comprises only 12 coarse tag classes as follows: Verb, Noun, Pronouns, Adjectives, Adverbs, Adpositions, Conjunctions, Determiners, Cardinal Numbers, Particles, Other/ Foreign words, Punctuations.\n",
    "\n",
    " \n",
    "\n",
    "Note that using only 12 coarse classes (compared to the 46 fine classes such as NNP, VBD etc.) will make the Viterbi algorithm faster as well.\n",
    "\n",
    " \n",
    "\n",
    "## Goals :::\n",
    "You can split the Treebank dataset into train and validation sets. Please use a sample size of 95:5 for training: validation sets, i.e. keep the validation size small, else the algorithm will need a very high amount of runtime.\n",
    "\n",
    " \n",
    "\n",
    "You need to accomplish the following in this assignment:\n",
    "\n",
    "Write the vanilla Viterbi algorithm for assigning POS tags (i.e. without dealing with unknown words) \n",
    "Solve the problem of unknown words using at least two techniques. These techniques can use any of the approaches discussed in the class - lexicon, rule-based, probabilistic etc. Note that to implement these techniques, you can either write separate functions and call them from the main Viterbi algorithm, or modify the Viterbi algorithm, or both.\n",
    "Compare the tagging accuracy after making these modifications with the vanilla Viterbi algorithm.\n",
    "List down at least three cases from the sample test file (i.e. unknown word-tag pairs) which were incorrectly tagged by the original Viterbi POS tagger and got corrected after your modifications.\n",
    "\n"
   ]
  },
  {
   "cell_type": "markdown",
   "metadata": {},
   "source": [
    "### Data Preparation"
   ]
  },
  {
   "cell_type": "code",
   "execution_count": 155,
   "metadata": {},
   "outputs": [],
   "source": [
    "#Importing all the required libraries\n",
    "\n",
    "import nltk\n",
    "import random\n",
    "from sklearn.model_selection import train_test_split\n",
    "import numpy as np\n",
    "import pandas as pd\n",
    "import matplotlib.pyplot as plt\n",
    "import seaborn as sns\n",
    "import pprint, time\n",
    "from nltk.tokenize import word_tokenize"
   ]
  },
  {
   "cell_type": "markdown",
   "metadata": {},
   "source": [
    "The below command was run in order to import the universal tagset as it wasn't present in my current setup before. It can be ignored if it is already present."
   ]
  },
  {
   "cell_type": "code",
   "execution_count": 156,
   "metadata": {},
   "outputs": [
    {
     "name": "stderr",
     "output_type": "stream",
     "text": [
      "[nltk_data] Downloading package universal_tagset to\n",
      "[nltk_data]     C:\\Users\\reach\\AppData\\Roaming\\nltk_data...\n",
      "[nltk_data]   Package universal_tagset is already up-to-date!\n"
     ]
    },
    {
     "data": {
      "text/plain": [
       "True"
      ]
     },
     "execution_count": 156,
     "metadata": {},
     "output_type": "execute_result"
    }
   ],
   "source": [
    "nltk.download('universal_tagset')"
   ]
  },
  {
   "cell_type": "code",
   "execution_count": 157,
   "metadata": {},
   "outputs": [],
   "source": [
    "# reading the Treebank tagged sentences\n",
    "nltk_data = list(nltk.corpus.treebank.tagged_sents(tagset='universal'))"
   ]
  },
  {
   "cell_type": "code",
   "execution_count": 158,
   "metadata": {},
   "outputs": [
    {
     "data": {
      "text/plain": [
       "list"
      ]
     },
     "execution_count": 158,
     "metadata": {},
     "output_type": "execute_result"
    }
   ],
   "source": [
    "type(nltk_data)"
   ]
  },
  {
   "cell_type": "code",
   "execution_count": 159,
   "metadata": {},
   "outputs": [
    {
     "data": {
      "text/plain": [
       "[[('Pierre', 'NOUN'),\n",
       "  ('Vinken', 'NOUN'),\n",
       "  (',', '.'),\n",
       "  ('61', 'NUM'),\n",
       "  ('years', 'NOUN'),\n",
       "  ('old', 'ADJ'),\n",
       "  (',', '.'),\n",
       "  ('will', 'VERB'),\n",
       "  ('join', 'VERB'),\n",
       "  ('the', 'DET'),\n",
       "  ('board', 'NOUN'),\n",
       "  ('as', 'ADP'),\n",
       "  ('a', 'DET'),\n",
       "  ('nonexecutive', 'ADJ'),\n",
       "  ('director', 'NOUN'),\n",
       "  ('Nov.', 'NOUN'),\n",
       "  ('29', 'NUM'),\n",
       "  ('.', '.')],\n",
       " [('Mr.', 'NOUN'),\n",
       "  ('Vinken', 'NOUN'),\n",
       "  ('is', 'VERB'),\n",
       "  ('chairman', 'NOUN'),\n",
       "  ('of', 'ADP'),\n",
       "  ('Elsevier', 'NOUN'),\n",
       "  ('N.V.', 'NOUN'),\n",
       "  (',', '.'),\n",
       "  ('the', 'DET'),\n",
       "  ('Dutch', 'NOUN'),\n",
       "  ('publishing', 'VERB'),\n",
       "  ('group', 'NOUN'),\n",
       "  ('.', '.')],\n",
       " [('Rudolph', 'NOUN'),\n",
       "  ('Agnew', 'NOUN'),\n",
       "  (',', '.'),\n",
       "  ('55', 'NUM'),\n",
       "  ('years', 'NOUN'),\n",
       "  ('old', 'ADJ'),\n",
       "  ('and', 'CONJ'),\n",
       "  ('former', 'ADJ'),\n",
       "  ('chairman', 'NOUN'),\n",
       "  ('of', 'ADP'),\n",
       "  ('Consolidated', 'NOUN'),\n",
       "  ('Gold', 'NOUN'),\n",
       "  ('Fields', 'NOUN'),\n",
       "  ('PLC', 'NOUN'),\n",
       "  (',', '.'),\n",
       "  ('was', 'VERB'),\n",
       "  ('named', 'VERB'),\n",
       "  ('*-1', 'X'),\n",
       "  ('a', 'DET'),\n",
       "  ('nonexecutive', 'ADJ'),\n",
       "  ('director', 'NOUN'),\n",
       "  ('of', 'ADP'),\n",
       "  ('this', 'DET'),\n",
       "  ('British', 'ADJ'),\n",
       "  ('industrial', 'ADJ'),\n",
       "  ('conglomerate', 'NOUN'),\n",
       "  ('.', '.')]]"
      ]
     },
     "execution_count": 159,
     "metadata": {},
     "output_type": "execute_result"
    }
   ],
   "source": [
    "nltk_data[:3]"
   ]
  },
  {
   "cell_type": "code",
   "execution_count": 160,
   "metadata": {},
   "outputs": [
    {
     "name": "stdout",
     "output_type": "stream",
     "text": [
      "Length of Training Set - 3718\n",
      "Length of Testing Set - 196\n",
      "\n",
      "\n",
      "[[('The', 'DET'), ('language', 'NOUN'), ('of', 'ADP'), ('the', 'DET'), ('appropriations', 'NOUN'), ('rider', 'NOUN'), ('implies', 'VERB'), ('that', 'ADP'), ('any', 'DET'), ('nomination', 'NOUN'), ('to', 'PRT'), ('any', 'DET'), ('position', 'NOUN'), ('of', 'ADP'), ('a', 'DET'), ('rejected', 'VERB'), ('nominee', 'NOUN'), ('will', 'VERB'), ('result', 'VERB'), ('in', 'ADP'), ('the', 'DET'), ('president', 'NOUN'), ('being', 'VERB'), ('denied', 'VERB'), ('*-55', 'X'), ('funding', 'VERB'), ('0', 'X'), ('*', 'X'), ('to', 'PRT'), ('pay', 'VERB'), ('that', 'DET'), ('person', 'NOUN'), (\"'s\", 'PRT'), ('salary', 'NOUN'), ('*T*-1', 'X'), ('.', '.')], [('Proper', 'ADJ'), ('English', 'ADJ'), ('bells', 'NOUN'), ('are', 'VERB'), ('started', 'VERB'), ('*-1', 'X'), ('off', 'PRT'), ('in', 'ADP'), ('``', '.'), ('rounds', 'NOUN'), (',', '.'), (\"''\", '.'), ('from', 'ADP'), ('the', 'DET'), ('highest-pitched', 'ADJ'), ('bell', 'NOUN'), ('to', 'PRT'), ('the', 'DET'), ('lowest', 'ADJ'), ('--', '.'), ('a', 'DET'), ('simple', 'ADJ'), ('descending', 'VERB'), ('scale', 'NOUN'), ('using', 'VERB'), (',', '.'), ('in', 'ADP'), ('larger', 'ADJ'), ('churches', 'NOUN'), (',', '.'), ('as', 'ADV'), ('many', 'ADJ'), ('as', 'ADP'), ('12', 'NUM'), ('bells', 'NOUN'), ('.', '.')], [('Mr.', 'NOUN'), ('Baum', 'NOUN'), ('said', 'VERB'), ('0', 'X'), ('he', 'PRON'), ('and', 'CONJ'), ('Mr.', 'NOUN'), ('Harper', 'NOUN'), ('both', 'DET'), ('advocated', 'VERB'), ('*-1', 'X'), ('closing', 'VERB'), ('some', 'DET'), ('plants', 'NOUN'), ('as', 'ADV'), ('long', 'ADJ'), ('ago', 'ADV'), ('as', 'ADP'), ('early', 'ADJ'), ('1988', 'NUM'), ('.', '.')], [('Sterling', 'NOUN'), (\"'s\", 'PRT'), ('firm', 'ADJ'), ('tone', 'NOUN'), (',', '.'), ('combined', 'VERB'), ('with', 'ADP'), ('a', 'DET'), ('steady', 'ADJ'), ('opening', 'NOUN'), ('on', 'ADP'), ('Wall', 'NOUN'), ('Street', 'NOUN'), (',', '.'), ('also', 'ADV'), ('tempted', 'VERB'), ('some', 'DET'), ('investors', 'NOUN'), ('to', 'PRT'), ('come', 'VERB'), ('back', 'ADV'), ('to', 'PRT'), ('the', 'DET'), ('market', 'NOUN'), (',', '.'), ('dealers', 'NOUN'), ('said', 'VERB'), ('0', 'X'), ('*T*-1', 'X'), ('.', '.')], [('And', 'CONJ'), ('South', 'NOUN'), ('Carolina', 'NOUN'), ('says', 'VERB'), ('0', 'X'), ('it', 'PRON'), ('is', 'VERB'), ('getting', 'VERB'), ('results', 'NOUN'), ('.', '.')], [('Among', 'ADP'), ('them', 'PRON'), ('are', 'VERB'), ('*T*-1', 'X'), ('differences', 'NOUN'), ('in', 'ADP'), ('savings', 'NOUN'), ('and', 'CONJ'), ('investment', 'NOUN'), ('rates', 'NOUN'), (',', '.'), ('corporate', 'ADJ'), ('structures', 'NOUN'), ('and', 'CONJ'), ('management', 'NOUN'), (',', '.'), ('and', 'CONJ'), ('government', 'NOUN'), ('spending', 'NOUN'), ('.', '.')], [('Champagne', 'NOUN'), ('and', 'CONJ'), ('dessert', 'NOUN'), ('followed', 'VERB'), ('.', '.')], [('Despite', 'ADP'), ('the', 'DET'), ('flap', 'NOUN'), ('over', 'ADP'), ('transplants', 'NOUN'), (',', '.'), ('federal', 'ADJ'), ('funding', 'NOUN'), ('of', 'ADP'), ('research', 'NOUN'), ('involving', 'VERB'), ('fetal', 'ADJ'), ('tissues', 'NOUN'), ('will', 'VERB'), ('continue', 'VERB'), ('on', 'ADP'), ('a', 'DET'), ('number', 'NOUN'), ('of', 'ADP'), ('fronts', 'NOUN'), ('.', '.')], [('Thus', 'ADV'), (',', '.'), ('an', 'DET'), ('institution', 'NOUN'), ('obligated', 'VERB'), ('*', 'X'), ('to', 'PRT'), ('make', 'VERB'), ('fixed-rate', 'ADJ'), ('interest', 'NOUN'), ('payments', 'NOUN'), ('on', 'ADP'), ('debt', 'NOUN'), ('swaps', 'NOUN'), ('the', 'DET'), ('payments', 'NOUN'), ('with', 'ADP'), ('another', 'DET'), ('making', 'VERB'), ('floating-rate', 'ADJ'), ('payments', 'NOUN'), ('.', '.')], [('As', 'ADP'), ('Mr.', 'NOUN'), ('Whiting', 'NOUN'), ('describes', 'VERB'), ('it', 'PRON'), (',', '.'), ('Nipponese', 'ADJ'), ('baseball', 'NOUN'), ('is', 'VERB'), ('a', 'DET'), ('``', '.'), ('mirror', 'NOUN'), ('of', 'ADP'), ('Japan', 'NOUN'), (\"'s\", 'PRT'), ('fabled', 'ADJ'), ('virtues', 'NOUN'), ('of', 'ADP'), ('hard', 'ADJ'), ('work', 'NOUN'), ('and', 'CONJ'), ('harmony', 'NOUN'), ('.', '.'), (\"''\", '.')]]\n"
     ]
    }
   ],
   "source": [
    "# split data into training and validation set in the ratio 95:5\n",
    "\n",
    "random.seed(1234)\n",
    "train_set, test_set = train_test_split(nltk_data, train_size=0.95, test_size=0.05)\n",
    "\n",
    "print(\"Length of Training Set -\", len(train_set))\n",
    "print(\"Length of Testing Set -\", len(test_set))\n",
    "print(\"\\n\")\n",
    "\n",
    "print(train_set[:10])"
   ]
  },
  {
   "cell_type": "code",
   "execution_count": 161,
   "metadata": {},
   "outputs": [
    {
     "name": "stdout",
     "output_type": "stream",
     "text": [
      "Length of Train Tagged Words -  95581\n",
      "Length of Test Tagged Words -  5095\n"
     ]
    }
   ],
   "source": [
    "# Getting list of tagged words in training set\n",
    "train_tagged_words = [tup for sent in train_set for tup in sent]\n",
    "print(\"Length of Train Tagged Words - \", len(train_tagged_words))\n",
    "\n",
    "# Getting list of tagged words in testing set\n",
    "test_tagged_words = [tup[0] for sent in test_set for tup in sent]\n",
    "print(\"Length of Test Tagged Words - \", len(test_tagged_words))"
   ]
  },
  {
   "cell_type": "code",
   "execution_count": 162,
   "metadata": {},
   "outputs": [
    {
     "data": {
      "text/plain": [
       "['The',\n",
       " 'language',\n",
       " 'of',\n",
       " 'the',\n",
       " 'appropriations',\n",
       " 'rider',\n",
       " 'implies',\n",
       " 'that',\n",
       " 'any',\n",
       " 'nomination']"
      ]
     },
     "execution_count": 162,
     "metadata": {},
     "output_type": "execute_result"
    }
   ],
   "source": [
    "# first 10 tokens/words in the training set\n",
    "\n",
    "train_set_tokens = [pair[0] for pair in train_tagged_words]\n",
    "train_set_tokens[:10]"
   ]
  },
  {
   "cell_type": "code",
   "execution_count": 163,
   "metadata": {},
   "outputs": [],
   "source": [
    "# Convert train vocabulary to a set\n",
    "train_vocab_set = set(train_set_tokens)"
   ]
  },
  {
   "cell_type": "code",
   "execution_count": 164,
   "metadata": {},
   "outputs": [
    {
     "data": {
      "text/plain": [
       "['DET', 'NOUN', 'ADP', 'DET', 'NOUN', 'NOUN', 'VERB', 'ADP', 'DET', 'NOUN']"
      ]
     },
     "execution_count": 164,
     "metadata": {},
     "output_type": "execute_result"
    }
   ],
   "source": [
    "# POS tags for the tokens in the train set \n",
    "train_pos_tokens = [tag[1] for tag in train_tagged_words]\n",
    "train_pos_tokens[:10]"
   ]
  },
  {
   "cell_type": "code",
   "execution_count": 165,
   "metadata": {},
   "outputs": [],
   "source": [
    "# store the unique POS tags to a set\n",
    "train_pos_set = set(train_pos_tokens)"
   ]
  },
  {
   "cell_type": "code",
   "execution_count": 166,
   "metadata": {},
   "outputs": [
    {
     "name": "stdout",
     "output_type": "stream",
     "text": [
      "12081\n"
     ]
    }
   ],
   "source": [
    "# let's check how many words are present in vocabulary\n",
    "print(len(train_vocab_set))"
   ]
  },
  {
   "cell_type": "code",
   "execution_count": 167,
   "metadata": {},
   "outputs": [
    {
     "name": "stdout",
     "output_type": "stream",
     "text": [
      "12\n"
     ]
    }
   ],
   "source": [
    "# let's check how many unique tags are present in training data\n",
    "print(len(train_pos_set))"
   ]
  },
  {
   "cell_type": "code",
   "execution_count": 168,
   "metadata": {},
   "outputs": [],
   "source": [
    "len_pos_set = len(train_pos_set)\n",
    "len_vocab_set = len(train_vocab_set)"
   ]
  },
  {
   "cell_type": "markdown",
   "metadata": {},
   "source": [
    "### Build the Plain Vanilla Viterbi based POS tagger"
   ]
  },
  {
   "cell_type": "code",
   "execution_count": 169,
   "metadata": {},
   "outputs": [],
   "source": [
    "# compute emission probability for a given word for a given tag\n",
    "def word_given_tag(word, tag, train_bag = train_tagged_words):\n",
    "    tag_list = [pair for pair in train_bag if pair[1] == tag]\n",
    "    tag_count = len(tag_list)    \n",
    "    word_given_tag_list = [pair[0] for pair in tag_list if pair[0] == word]    \n",
    "    word_given_tag_count = len(word_given_tag_list)    \n",
    "    \n",
    "    return (word_given_tag_count, tag_count)"
   ]
  },
  {
   "cell_type": "code",
   "execution_count": 170,
   "metadata": {},
   "outputs": [],
   "source": [
    "# compute transition probabilities of a previous and next tag\n",
    "def t2_given_t1(t2, t1, train_bag = train_tagged_words):\n",
    "    tags = [pair[1] for pair in train_bag]\n",
    "    \n",
    "    t1_tags_list = [tag for tag in tags if tag == t1]\n",
    "    t1_tags_count = len(t1_tags_list)\n",
    "    \n",
    "    t2_given_t1_list = [tags[index+1] for index in range(len(tags)-1) if tags[index] == t1 and tags[index+1] == t2]\n",
    "    t2_given_t1_count = len(t2_given_t1_list)\n",
    "    \n",
    "    return(t2_given_t1_count, t1_tags_count)"
   ]
  },
  {
   "cell_type": "code",
   "execution_count": 171,
   "metadata": {},
   "outputs": [],
   "source": [
    "# creating t x t transition matrix of training_pos_tag_set\n",
    "# each column is t2, each row is t1\n",
    "# thus M(i, j) represents P(tj given ti)\n",
    "\n",
    "tags_matrix = np.zeros((len_pos_set, len_pos_set), dtype='float32')\n",
    "for i, t1 in enumerate(list(train_pos_set)):\n",
    "    for j, t2 in enumerate(list(train_pos_set)): \n",
    "        tags_matrix[i, j] = t2_given_t1(t2, t1)[0]/t2_given_t1(t2, t1)[1]"
   ]
  },
  {
   "cell_type": "code",
   "execution_count": 172,
   "metadata": {},
   "outputs": [],
   "source": [
    "# convert the matrix to a df for better readability\n",
    "tags_df = pd.DataFrame(tags_matrix, columns = list(train_pos_set), index=list(train_pos_set))"
   ]
  },
  {
   "cell_type": "code",
   "execution_count": 173,
   "metadata": {},
   "outputs": [
    {
     "data": {
      "text/html": [
       "<div>\n",
       "<style scoped>\n",
       "    .dataframe tbody tr th:only-of-type {\n",
       "        vertical-align: middle;\n",
       "    }\n",
       "\n",
       "    .dataframe tbody tr th {\n",
       "        vertical-align: top;\n",
       "    }\n",
       "\n",
       "    .dataframe thead th {\n",
       "        text-align: right;\n",
       "    }\n",
       "</style>\n",
       "<table border=\"1\" class=\"dataframe\">\n",
       "  <thead>\n",
       "    <tr style=\"text-align: right;\">\n",
       "      <th></th>\n",
       "      <th>CONJ</th>\n",
       "      <th>ADP</th>\n",
       "      <th>NOUN</th>\n",
       "      <th>PRT</th>\n",
       "      <th>DET</th>\n",
       "      <th>X</th>\n",
       "      <th>ADV</th>\n",
       "      <th>NUM</th>\n",
       "      <th>.</th>\n",
       "      <th>VERB</th>\n",
       "      <th>PRON</th>\n",
       "      <th>ADJ</th>\n",
       "    </tr>\n",
       "  </thead>\n",
       "  <tbody>\n",
       "    <tr>\n",
       "      <th>CONJ</th>\n",
       "      <td>0.000463</td>\n",
       "      <td>0.053704</td>\n",
       "      <td>0.351389</td>\n",
       "      <td>0.004630</td>\n",
       "      <td>0.117593</td>\n",
       "      <td>0.008333</td>\n",
       "      <td>0.056019</td>\n",
       "      <td>0.043056</td>\n",
       "      <td>0.034722</td>\n",
       "      <td>0.155556</td>\n",
       "      <td>0.057407</td>\n",
       "      <td>0.117130</td>\n",
       "    </tr>\n",
       "    <tr>\n",
       "      <th>ADP</th>\n",
       "      <td>0.000856</td>\n",
       "      <td>0.017450</td>\n",
       "      <td>0.321486</td>\n",
       "      <td>0.001285</td>\n",
       "      <td>0.324591</td>\n",
       "      <td>0.034258</td>\n",
       "      <td>0.013596</td>\n",
       "      <td>0.064126</td>\n",
       "      <td>0.039396</td>\n",
       "      <td>0.008350</td>\n",
       "      <td>0.068515</td>\n",
       "      <td>0.106091</td>\n",
       "    </tr>\n",
       "    <tr>\n",
       "      <th>NOUN</th>\n",
       "      <td>0.042812</td>\n",
       "      <td>0.176174</td>\n",
       "      <td>0.264645</td>\n",
       "      <td>0.043140</td>\n",
       "      <td>0.013614</td>\n",
       "      <td>0.028870</td>\n",
       "      <td>0.017190</td>\n",
       "      <td>0.009416</td>\n",
       "      <td>0.240045</td>\n",
       "      <td>0.147122</td>\n",
       "      <td>0.004599</td>\n",
       "      <td>0.012373</td>\n",
       "    </tr>\n",
       "    <tr>\n",
       "      <th>PRT</th>\n",
       "      <td>0.002310</td>\n",
       "      <td>0.020462</td>\n",
       "      <td>0.246535</td>\n",
       "      <td>0.001650</td>\n",
       "      <td>0.101650</td>\n",
       "      <td>0.013531</td>\n",
       "      <td>0.009571</td>\n",
       "      <td>0.057756</td>\n",
       "      <td>0.040924</td>\n",
       "      <td>0.402640</td>\n",
       "      <td>0.018152</td>\n",
       "      <td>0.084818</td>\n",
       "    </tr>\n",
       "    <tr>\n",
       "      <th>DET</th>\n",
       "      <td>0.000483</td>\n",
       "      <td>0.009418</td>\n",
       "      <td>0.637044</td>\n",
       "      <td>0.000241</td>\n",
       "      <td>0.005192</td>\n",
       "      <td>0.046124</td>\n",
       "      <td>0.012437</td>\n",
       "      <td>0.022096</td>\n",
       "      <td>0.017991</td>\n",
       "      <td>0.039845</td>\n",
       "      <td>0.003381</td>\n",
       "      <td>0.205747</td>\n",
       "    </tr>\n",
       "    <tr>\n",
       "      <th>X</th>\n",
       "      <td>0.010625</td>\n",
       "      <td>0.144148</td>\n",
       "      <td>0.061687</td>\n",
       "      <td>0.184110</td>\n",
       "      <td>0.055186</td>\n",
       "      <td>0.074691</td>\n",
       "      <td>0.026007</td>\n",
       "      <td>0.002854</td>\n",
       "      <td>0.163495</td>\n",
       "      <td>0.204408</td>\n",
       "      <td>0.055820</td>\n",
       "      <td>0.016968</td>\n",
       "    </tr>\n",
       "    <tr>\n",
       "      <th>ADV</th>\n",
       "      <td>0.007307</td>\n",
       "      <td>0.118233</td>\n",
       "      <td>0.032215</td>\n",
       "      <td>0.013949</td>\n",
       "      <td>0.067419</td>\n",
       "      <td>0.023580</td>\n",
       "      <td>0.079044</td>\n",
       "      <td>0.032215</td>\n",
       "      <td>0.131850</td>\n",
       "      <td>0.349053</td>\n",
       "      <td>0.015942</td>\n",
       "      <td>0.129193</td>\n",
       "    </tr>\n",
       "    <tr>\n",
       "      <th>NUM</th>\n",
       "      <td>0.014243</td>\n",
       "      <td>0.035905</td>\n",
       "      <td>0.353116</td>\n",
       "      <td>0.027300</td>\n",
       "      <td>0.003264</td>\n",
       "      <td>0.208012</td>\n",
       "      <td>0.002671</td>\n",
       "      <td>0.183086</td>\n",
       "      <td>0.118991</td>\n",
       "      <td>0.017804</td>\n",
       "      <td>0.001484</td>\n",
       "      <td>0.034125</td>\n",
       "    </tr>\n",
       "    <tr>\n",
       "      <th>.</th>\n",
       "      <td>0.058151</td>\n",
       "      <td>0.091367</td>\n",
       "      <td>0.222252</td>\n",
       "      <td>0.002430</td>\n",
       "      <td>0.173373</td>\n",
       "      <td>0.027725</td>\n",
       "      <td>0.052660</td>\n",
       "      <td>0.079755</td>\n",
       "      <td>0.093528</td>\n",
       "      <td>0.088487</td>\n",
       "      <td>0.065802</td>\n",
       "      <td>0.044378</td>\n",
       "    </tr>\n",
       "    <tr>\n",
       "      <th>VERB</th>\n",
       "      <td>0.005353</td>\n",
       "      <td>0.090373</td>\n",
       "      <td>0.109922</td>\n",
       "      <td>0.030952</td>\n",
       "      <td>0.133892</td>\n",
       "      <td>0.219611</td>\n",
       "      <td>0.081375</td>\n",
       "      <td>0.022962</td>\n",
       "      <td>0.034986</td>\n",
       "      <td>0.168800</td>\n",
       "      <td>0.035839</td>\n",
       "      <td>0.065937</td>\n",
       "    </tr>\n",
       "    <tr>\n",
       "      <th>PRON</th>\n",
       "      <td>0.004624</td>\n",
       "      <td>0.022351</td>\n",
       "      <td>0.210405</td>\n",
       "      <td>0.012717</td>\n",
       "      <td>0.010019</td>\n",
       "      <td>0.093642</td>\n",
       "      <td>0.033141</td>\n",
       "      <td>0.007322</td>\n",
       "      <td>0.039306</td>\n",
       "      <td>0.487091</td>\n",
       "      <td>0.007707</td>\n",
       "      <td>0.071676</td>\n",
       "    </tr>\n",
       "    <tr>\n",
       "      <th>ADJ</th>\n",
       "      <td>0.016921</td>\n",
       "      <td>0.077378</td>\n",
       "      <td>0.699031</td>\n",
       "      <td>0.010678</td>\n",
       "      <td>0.005093</td>\n",
       "      <td>0.021193</td>\n",
       "      <td>0.004764</td>\n",
       "      <td>0.021193</td>\n",
       "      <td>0.064892</td>\n",
       "      <td>0.011993</td>\n",
       "      <td>0.000657</td>\n",
       "      <td>0.066207</td>\n",
       "    </tr>\n",
       "  </tbody>\n",
       "</table>\n",
       "</div>"
      ],
      "text/plain": [
       "          CONJ       ADP      NOUN       PRT       DET         X       ADV  \\\n",
       "CONJ  0.000463  0.053704  0.351389  0.004630  0.117593  0.008333  0.056019   \n",
       "ADP   0.000856  0.017450  0.321486  0.001285  0.324591  0.034258  0.013596   \n",
       "NOUN  0.042812  0.176174  0.264645  0.043140  0.013614  0.028870  0.017190   \n",
       "PRT   0.002310  0.020462  0.246535  0.001650  0.101650  0.013531  0.009571   \n",
       "DET   0.000483  0.009418  0.637044  0.000241  0.005192  0.046124  0.012437   \n",
       "X     0.010625  0.144148  0.061687  0.184110  0.055186  0.074691  0.026007   \n",
       "ADV   0.007307  0.118233  0.032215  0.013949  0.067419  0.023580  0.079044   \n",
       "NUM   0.014243  0.035905  0.353116  0.027300  0.003264  0.208012  0.002671   \n",
       ".     0.058151  0.091367  0.222252  0.002430  0.173373  0.027725  0.052660   \n",
       "VERB  0.005353  0.090373  0.109922  0.030952  0.133892  0.219611  0.081375   \n",
       "PRON  0.004624  0.022351  0.210405  0.012717  0.010019  0.093642  0.033141   \n",
       "ADJ   0.016921  0.077378  0.699031  0.010678  0.005093  0.021193  0.004764   \n",
       "\n",
       "           NUM         .      VERB      PRON       ADJ  \n",
       "CONJ  0.043056  0.034722  0.155556  0.057407  0.117130  \n",
       "ADP   0.064126  0.039396  0.008350  0.068515  0.106091  \n",
       "NOUN  0.009416  0.240045  0.147122  0.004599  0.012373  \n",
       "PRT   0.057756  0.040924  0.402640  0.018152  0.084818  \n",
       "DET   0.022096  0.017991  0.039845  0.003381  0.205747  \n",
       "X     0.002854  0.163495  0.204408  0.055820  0.016968  \n",
       "ADV   0.032215  0.131850  0.349053  0.015942  0.129193  \n",
       "NUM   0.183086  0.118991  0.017804  0.001484  0.034125  \n",
       ".     0.079755  0.093528  0.088487  0.065802  0.044378  \n",
       "VERB  0.022962  0.034986  0.168800  0.035839  0.065937  \n",
       "PRON  0.007322  0.039306  0.487091  0.007707  0.071676  \n",
       "ADJ   0.021193  0.064892  0.011993  0.000657  0.066207  "
      ]
     },
     "execution_count": 173,
     "metadata": {},
     "output_type": "execute_result"
    }
   ],
   "source": [
    "# Let's have a glimpse into the transition matrix\n",
    "tags_df"
   ]
  },
  {
   "cell_type": "code",
   "execution_count": 174,
   "metadata": {},
   "outputs": [
    {
     "data": {
      "image/png": "[encoded data removed]",
      "text/plain": [
       "<Figure size 1008x720 with 2 Axes>"
      ]
     },
     "metadata": {
      "needs_background": "light"
     },
     "output_type": "display_data"
    }
   ],
   "source": [
    "# plotting heatmap of tags matrix\n",
    "\n",
    "plt.figure(figsize=(14, 10))\n",
    "sns.heatmap(tags_df, annot = True)\n",
    "plt.show()"
   ]
  },
  {
   "cell_type": "code",
   "execution_count": 175,
   "metadata": {},
   "outputs": [
    {
     "data": {
      "image/png": "[encoded data removed]",
      "text/plain": [
       "<Figure size 1008x720 with 2 Axes>"
      ]
     },
     "metadata": {
      "needs_background": "light"
     },
     "output_type": "display_data"
    }
   ],
   "source": [
    "# frequent tags\n",
    "# filter the df to get P(t2, t1) > 0.5\n",
    "\n",
    "tags_frequent = tags_df[tags_df>0.5]\n",
    "plt.figure(figsize=(14, 10))\n",
    "sns.heatmap(tags_frequent, annot=True)\n",
    "plt.show()"
   ]
  },
  {
   "cell_type": "code",
   "execution_count": 176,
   "metadata": {},
   "outputs": [],
   "source": [
    "# Plain Vanilla Viterbi Heuristic Algorithm implementation\n",
    "\n",
    "def Viterbi(words, train_bag = train_tagged_words):\n",
    "    state = []\n",
    "    T = list(set([pair[1] for pair in train_bag]))\n",
    "    \n",
    "    for key, word in enumerate(words):\n",
    "        #initialise list of probability column for a given observation\n",
    "        p = [] \n",
    "        for tag in T:\n",
    "            if key == 0:\n",
    "                transition_p = tags_df.loc['.', tag]\n",
    "            else:\n",
    "                transition_p = tags_df.loc[state[-1], tag]\n",
    "                \n",
    "            # compute emission and state probabilities\n",
    "            emission_p = word_given_tag(words[key], tag)[0]/word_given_tag(words[key], tag)[1]\n",
    "            state_probability = emission_p * transition_p    \n",
    "            p.append(state_probability)\n",
    "            \n",
    "        pmax = max(p)\n",
    "        # getting state for which probability is maximum\n",
    "        state_max = T[p.index(pmax)] \n",
    "        state.append(state_max)\n",
    "    return list(zip(words, state))"
   ]
  },
  {
   "cell_type": "code",
   "execution_count": 177,
   "metadata": {},
   "outputs": [
    {
     "data": {
      "text/plain": [
       "[[('A', 'DET'),\n",
       "  ('seat', 'NOUN'),\n",
       "  ('on', 'ADP'),\n",
       "  ('the', 'DET'),\n",
       "  ('Chicago', 'NOUN'),\n",
       "  ('Board', 'NOUN'),\n",
       "  ('of', 'ADP'),\n",
       "  ('Trade', 'NOUN'),\n",
       "  ('was', 'VERB'),\n",
       "  ('sold', 'VERB'),\n",
       "  ('*-1', 'X'),\n",
       "  ('for', 'ADP'),\n",
       "  ('$', '.'),\n",
       "  ('350,000', 'NUM'),\n",
       "  ('*U*', 'X'),\n",
       "  (',', '.'),\n",
       "  ('down', 'ADV'),\n",
       "  ('$', '.'),\n",
       "  ('16,000', 'NUM'),\n",
       "  ('*U*', 'X'),\n",
       "  ('from', 'ADP'),\n",
       "  ('the', 'DET'),\n",
       "  ('previous', 'ADJ'),\n",
       "  ('sale', 'NOUN'),\n",
       "  ('last', 'ADJ'),\n",
       "  ('Friday', 'NOUN'),\n",
       "  ('.', '.')],\n",
       " [('``', '.'),\n",
       "  ('So', 'ADP'),\n",
       "  ('the', 'DET'),\n",
       "  ('focus', 'NOUN'),\n",
       "  ('turned', 'VERB'),\n",
       "  ('to', 'PRT'),\n",
       "  ('other', 'ADJ'),\n",
       "  ('fixed-income', 'ADJ'),\n",
       "  ('markets', 'NOUN'),\n",
       "  (',', '.'),\n",
       "  ('corporate', 'ADJ'),\n",
       "  ('and', 'CONJ'),\n",
       "  ('mortgages', 'NOUN'),\n",
       "  ('in', 'ADP'),\n",
       "  ('particular', 'ADJ'),\n",
       "  (',', '.'),\n",
       "  (\"''\", '.'),\n",
       "  ('she', 'PRON'),\n",
       "  ('said', 'VERB'),\n",
       "  ('*T*-1', 'X'),\n",
       "  ('.', '.')],\n",
       " [('Mr.', 'NOUN'),\n",
       "  ('Allen', 'NOUN'),\n",
       "  (\"'s\", 'PRT'),\n",
       "  ('Pittsburgh', 'NOUN'),\n",
       "  ('firm', 'NOUN'),\n",
       "  (',', '.'),\n",
       "  ('Advanced', 'NOUN'),\n",
       "  ('Investment', 'NOUN'),\n",
       "  ('Management', 'NOUN'),\n",
       "  ('Inc.', 'NOUN'),\n",
       "  (',', '.'),\n",
       "  ('executes', 'VERB'),\n",
       "  ('program', 'NOUN'),\n",
       "  ('trades', 'NOUN'),\n",
       "  ('for', 'ADP'),\n",
       "  ('institutions', 'NOUN'),\n",
       "  ('.', '.')],\n",
       " [('Japan', 'NOUN'),\n",
       "  (\"'s\", 'PRT'),\n",
       "  ('reserves', 'NOUN'),\n",
       "  ('of', 'ADP'),\n",
       "  ('gold', 'NOUN'),\n",
       "  (',', '.'),\n",
       "  ('convertible', 'ADJ'),\n",
       "  ('foreign', 'ADJ'),\n",
       "  ('currencies', 'NOUN'),\n",
       "  (',', '.'),\n",
       "  ('and', 'CONJ'),\n",
       "  ('special', 'ADJ'),\n",
       "  ('drawing', 'NOUN'),\n",
       "  ('rights', 'NOUN'),\n",
       "  ('fell', 'VERB'),\n",
       "  ('by', 'ADP'),\n",
       "  ('a', 'DET'),\n",
       "  ('hefty', 'ADJ'),\n",
       "  ('$', '.'),\n",
       "  ('1.82', 'NUM'),\n",
       "  ('billion', 'NUM'),\n",
       "  ('*U*', 'X'),\n",
       "  ('in', 'ADP'),\n",
       "  ('October', 'NOUN'),\n",
       "  ('to', 'PRT'),\n",
       "  ('$', '.'),\n",
       "  ('84.29', 'NUM'),\n",
       "  ('billion', 'NUM'),\n",
       "  ('*U*', 'X'),\n",
       "  (',', '.'),\n",
       "  ('the', 'DET'),\n",
       "  ('Finance', 'NOUN'),\n",
       "  ('Ministry', 'NOUN'),\n",
       "  ('said', 'VERB'),\n",
       "  ('0', 'X'),\n",
       "  ('*T*-2', 'X'),\n",
       "  ('.', '.')],\n",
       " [('Items', 'NOUN'),\n",
       "  ('listed', 'VERB'),\n",
       "  ('*', 'X'),\n",
       "  ('as', 'ADP'),\n",
       "  ('*-1', 'X'),\n",
       "  ('being', 'VERB'),\n",
       "  ('in', 'ADP'),\n",
       "  ('short', 'ADJ'),\n",
       "  ('supply', 'NOUN'),\n",
       "  ('numbered', 'VERB'),\n",
       "  ('only', 'ADV'),\n",
       "  ('about', 'ADV'),\n",
       "  ('a', 'DET'),\n",
       "  ('dozen', 'NOUN'),\n",
       "  (',', '.'),\n",
       "  ('but', 'CONJ'),\n",
       "  ('they', 'PRON'),\n",
       "  ('included', 'VERB'),\n",
       "  ('one', 'NUM'),\n",
       "  ('newcomer', 'NOUN'),\n",
       "  (':', '.'),\n",
       "  ('milk', 'NOUN'),\n",
       "  ('and', 'CONJ'),\n",
       "  ('milk', 'NOUN'),\n",
       "  ('powder', 'NOUN'),\n",
       "  ('.', '.')]]"
      ]
     },
     "execution_count": 177,
     "metadata": {},
     "output_type": "execute_result"
    }
   ],
   "source": [
    "# Running on entire test dataset would take more than 3-4hrs. \n",
    "# Let's test our Viterbi algorithm on a few sample sentences of test dataset\n",
    "\n",
    "random.seed(1234)\n",
    "\n",
    "# choose random 5 sents\n",
    "rndom = [random.randint(1,len(test_set)) for x in range(5)]\n",
    "\n",
    "# list of sents\n",
    "test_run = [test_set[i] for i in rndom]\n",
    "\n",
    "# list of tagged words\n",
    "test_run_base = [tup for sent in test_run for tup in sent]\n",
    "\n",
    "# list of untagged words\n",
    "test_tagged_words = [tup[0] for sent in test_run for tup in sent]\n",
    "test_run"
   ]
  },
  {
   "cell_type": "code",
   "execution_count": 178,
   "metadata": {},
   "outputs": [
    {
     "name": "stdout",
     "output_type": "stream",
     "text": [
      "Time taken in seconds:  73.59613966941833\n",
      "Plain Vanilla Viterbi Heuristics Accuracy:  92.1875\n"
     ]
    }
   ],
   "source": [
    "# tagging the test sentences\n",
    "\n",
    "start = time.time()\n",
    "tagged_seq = Viterbi(test_tagged_words)\n",
    "end = time.time()\n",
    "difference = end-start\n",
    "\n",
    "print(\"Time taken in seconds: \", difference)\n",
    "#print(tagged_seq)\n",
    "\n",
    "# accuracy\n",
    "\n",
    "plain_vanilla_viterbi_word_check = [i for i, j in zip(tagged_seq, test_run_base) if i == j] \n",
    "plain_vanilla_viterbi_accuracy = len(plain_vanilla_viterbi_word_check)/len(tagged_seq) * 100\n",
    "print('Plain Vanilla Viterbi Heuristics Accuracy: ', plain_vanilla_viterbi_accuracy)"
   ]
  },
  {
   "cell_type": "code",
   "execution_count": 179,
   "metadata": {},
   "outputs": [
    {
     "data": {
      "text/plain": [
       "[[('``', '.'), (('So', 'ADV'), ('So', 'ADP'))],\n",
       " [('other', 'ADJ'), (('fixed-income', 'CONJ'), ('fixed-income', 'ADJ'))],\n",
       " [(',', '.'), (('executes', 'CONJ'), ('executes', 'VERB'))],\n",
       " [('$', '.'), (('1.82', 'CONJ'), ('1.82', 'NUM'))],\n",
       " [('$', '.'), (('84.29', 'CONJ'), ('84.29', 'NUM'))],\n",
       " [('.', '.'), (('Items', 'CONJ'), ('Items', 'NOUN'))],\n",
       " [('supply', 'NOUN'), (('numbered', 'CONJ'), ('numbered', 'VERB'))],\n",
       " [('only', 'ADV'), (('about', 'ADP'), ('about', 'ADV'))],\n",
       " [('one', 'NUM'), (('newcomer', 'CONJ'), ('newcomer', 'NOUN'))],\n",
       " [('milk', 'NOUN'), (('powder', 'CONJ'), ('powder', 'NOUN'))]]"
      ]
     },
     "execution_count": 179,
     "metadata": {},
     "output_type": "execute_result"
    }
   ],
   "source": [
    "# Let'c check the incorrect tagged words\n",
    "\n",
    "incorrect_tagged_cases = [[test_run_base[i-1],j] for i, j in enumerate(zip(tagged_seq, test_run_base)) if j[0]!=j[1]]\n",
    "\n",
    "incorrect_tagged_cases"
   ]
  },
  {
   "cell_type": "markdown",
   "metadata": {},
   "source": [
    "### Solve the problem of unknown words"
   ]
  },
  {
   "cell_type": "code",
   "execution_count": 180,
   "metadata": {},
   "outputs": [],
   "source": [
    "# Let's try with some Lexicon and Rule-Based Models for POS Tagging"
   ]
  },
  {
   "cell_type": "markdown",
   "metadata": {},
   "source": [
    "#### Unigram Tagger"
   ]
  },
  {
   "cell_type": "markdown",
   "metadata": {},
   "source": [
    "#### Evaluating tagging accuracy"
   ]
  },
  {
   "cell_type": "code",
   "execution_count": 181,
   "metadata": {},
   "outputs": [
    {
     "name": "stdout",
     "output_type": "stream",
     "text": [
      "Unigram accuracy - 0.9030421982335624\n"
     ]
    }
   ],
   "source": [
    "# Lexicon or unigram tagger\n",
    "\n",
    "unigram_tagger = nltk.UnigramTagger(train_set)\n",
    "unigram_tagger_accuracy = unigram_tagger.evaluate(test_set)\n",
    "print(\"Unigram accuracy -\", unigram_tagger_accuracy)"
   ]
  },
  {
   "cell_type": "code",
   "execution_count": 182,
   "metadata": {},
   "outputs": [],
   "source": [
    "# patterns for tagging using a rule based regex tagger -\n",
    "\n",
    "patterns = [\n",
    "    (r'^[aA-zZ].*[0-9]+','NOUN'),  # this is alpha numeric\n",
    "    (r'.*ness$', 'NOUN'),\n",
    "    (r'.*\\'s$', 'NOUN'),              # these are possessive nouns\n",
    "    (r'.*s$', 'NOUN'),                # these are plural nouns\n",
    "    (r'^(wh|Wh).*$', 'CONJ'),\n",
    "    (r'.*', 'NOUN'),    \n",
    "    (r'.*ly$', 'ADV'),\n",
    "    (r'^(0|([*|-|$].*))','X'), # these are any special character combination\n",
    "    (r'.*ould$', 'X'), # these are modals\n",
    "    (r'(The|the|A|a|An|an)$', 'DET'),\n",
    "    (r'^([0-9]|[aA-zZ])+\\-[aA-zZ]*$','ADJ'),\n",
    "    (r'.*able$', 'ADJ'), # these are adjectives like 100-megabytes 237-Seats\n",
    "    (r'[aA-zZ]+(ed|ing|es)$', 'VERB'), # these are any word ending with 'ing' or 'ed' is a verb\n",
    "    (r'[0-9].?[,\\/]?[0-9]*','NUM') # these are numbers \n",
    "    ]"
   ]
  },
  {
   "cell_type": "markdown",
   "metadata": {},
   "source": [
    "#### Evaluating tagging accuracy"
   ]
  },
  {
   "cell_type": "code",
   "execution_count": 183,
   "metadata": {},
   "outputs": [
    {
     "name": "stdout",
     "output_type": "stream",
     "text": [
      "The accuracy of the Unigram Tagger backed up by the RegexpTagger is - 0.9383709519136408\n"
     ]
    }
   ],
   "source": [
    "# rule based tagger\n",
    "\n",
    "rule_based_tagger = nltk.RegexpTagger(patterns)\n",
    "\n",
    "# unigram tagger backed up by the rule-based tagger\n",
    "rule_based_unigram_tagger = nltk.UnigramTagger(train_set, backoff = rule_based_tagger)\n",
    "\n",
    "rule_based_unigram_tagger_accuracy = rule_based_unigram_tagger.evaluate(test_set)\n",
    "\n",
    "print(\"The accuracy of the Unigram Tagger backed up by the RegexpTagger is -\", rule_based_unigram_tagger_accuracy)"
   ]
  },
  {
   "cell_type": "markdown",
   "metadata": {},
   "source": [
    "#### Evaluating tagging accuracy"
   ]
  },
  {
   "cell_type": "code",
   "execution_count": 184,
   "metadata": {},
   "outputs": [
    {
     "name": "stdout",
     "output_type": "stream",
     "text": [
      "0.9407262021589794\n"
     ]
    }
   ],
   "source": [
    "# Bigram tagger\n",
    "\n",
    "bigram_tagger = nltk.BigramTagger(train_set, backoff=rule_based_unigram_tagger)\n",
    "bigram_tagger.evaluate(test_set)\n",
    "bigram_tagger_accuracy = bigram_tagger.evaluate(test_set)\n",
    "print(bigram_tagger_accuracy)\n"
   ]
  },
  {
   "cell_type": "markdown",
   "metadata": {},
   "source": [
    "#### Evaluating tagging accuracy"
   ]
  },
  {
   "cell_type": "code",
   "execution_count": 185,
   "metadata": {},
   "outputs": [
    {
     "name": "stdout",
     "output_type": "stream",
     "text": [
      "The accuracy of the Trigram Tagger backed up by the bigram_tagger is - 0.9417075564278704\n"
     ]
    }
   ],
   "source": [
    "# Trigram tagger\n",
    "\n",
    "trigram_tagger = nltk.TrigramTagger(train_set, backoff = bigram_tagger)\n",
    "trigram_tagger.evaluate(test_set)\n",
    "trigram_tagger_accuracy = trigram_tagger.evaluate(test_set)\n",
    "print(\"The accuracy of the Trigram Tagger backed up by the bigram_tagger is -\", trigram_tagger_accuracy)"
   ]
  },
  {
   "cell_type": "markdown",
   "metadata": {},
   "source": [
    "### Viterbi Modification Technique - I"
   ]
  },
  {
   "cell_type": "code",
   "execution_count": 186,
   "metadata": {},
   "outputs": [],
   "source": [
    "# use transition probability of tags when emission probability is zero (in case of unknown words)\n",
    "\n",
    "def Modified_Viterbi_for_Unknown_Words(words, train_bag = train_tagged_words):\n",
    "    state = []\n",
    "    T = list(set([pair[1] for pair in train_bag]))\n",
    "    \n",
    "    for key, word in enumerate(words):\n",
    "        #initialise list of probability column for a given observation\n",
    "        p = [] \n",
    "        p_transition =[] # list for storing transition probabilities\n",
    "        for tag in T:\n",
    "            if key == 0:\n",
    "                transition_p = tags_df.loc['.', tag]\n",
    "            else:\n",
    "                transition_p = tags_df.loc[state[-1], tag]\n",
    "                \n",
    "            # compute emission and state probabilities\n",
    "            emission_p = word_given_tag(words[key], tag)[0]/word_given_tag(words[key], tag)[1]\n",
    "            state_probability = emission_p * transition_p    \n",
    "            p.append(state_probability)\n",
    "            p_transition.append(transition_p)\n",
    "            \n",
    "        pmax = max(p)\n",
    "        state_max = T[p.index(pmax)] \n",
    "      \n",
    "        # if probability is zero (unknown word) then use transition probability\n",
    "        if(pmax==0):\n",
    "            pmax = max(p_transition)\n",
    "            state_max = T[p_transition.index(pmax)]\n",
    "                           \n",
    "        else:\n",
    "            state_max = T[p.index(pmax)] \n",
    "        \n",
    "        state.append(state_max)\n",
    "    return list(zip(words, state))"
   ]
  },
  {
   "cell_type": "markdown",
   "metadata": {},
   "source": [
    "#### Evaluating tagging accuracy"
   ]
  },
  {
   "cell_type": "code",
   "execution_count": 187,
   "metadata": {},
   "outputs": [
    {
     "name": "stdout",
     "output_type": "stream",
     "text": [
      "Time taken in seconds:  68.45131063461304\n",
      "Modified Viterbi for Unknown Words Accuracy:  94.53125\n"
     ]
    }
   ],
   "source": [
    "# tagging the test sentences\n",
    "\n",
    "start = time.time()\n",
    "tagged_seq = Modified_Viterbi_for_Unknown_Words(test_tagged_words)\n",
    "end = time.time()\n",
    "difference = end-start\n",
    "\n",
    "print(\"Time taken in seconds: \", difference)\n",
    "\n",
    "# accuracy\n",
    "check = [i for i, j in zip(tagged_seq, test_run_base) if i == j] \n",
    "Modified_Viterbi_accuracy = len(check)/len(tagged_seq)\n",
    "print('Modified Viterbi for Unknown Words Accuracy: ',Modified_Viterbi_accuracy*100)"
   ]
  },
  {
   "cell_type": "markdown",
   "metadata": {},
   "source": [
    "### Viterbi Modification-Technique II"
   ]
  },
  {
   "cell_type": "code",
   "execution_count": 188,
   "metadata": {},
   "outputs": [],
   "source": [
    "# A trigram tagger backed off by a rule based tagger.\n",
    "\n",
    "def trigram_tagger(word, train_set = train_set):\n",
    "    \n",
    "    patterns = [\n",
    "    (r'[aA-zZ]+(ed|ing|es)$', 'VERB'), # Any word ending with 'ing' or 'ed' is a verb\n",
    "\n",
    "    (r'.*ly$', 'ADV'),\n",
    "        \n",
    "    (r'^([0-9]|[aA-zZ])+\\-[aA-zZ]*$','ADJ'),\n",
    "    (r'.*able$', 'ADJ'), \n",
    "    (r'.*ful$', 'ADJ'),\n",
    "    (r'.*ous$', 'ADJ'),\n",
    "        \n",
    "    (r'^[aA-zZ].*[0-9]+','NOUN'),     # Alpha Numeric\n",
    "    (r'.*ness$', 'NOUN'),\n",
    "    (r'.*\\'s$', 'NOUN'),              # possessive nouns - words ending with 's\n",
    "    (r'.*s$', 'NOUN'),                # plural nouns\n",
    "    (r'.*ers$', 'NOUN'),              # eg.- kinderganteners, autobioghapgers\n",
    "    (r'.*ment$', 'NOUN'),\n",
    "    (r'.*town$', 'NOUN'),\n",
    "    (r'^(wh|Wh).*$', 'CONJ'),\n",
    "        \n",
    "    (r'^(0|([*|-|$].*))','X'), # Any special character combination\n",
    "    (r'.*ould$', 'X'),\n",
    "        \n",
    "    (r'(The|the|A|a|An|an|That|that|This|this|Those|those|These|these)$', 'DET'), # That/this/these/those belong to the category of Demonstrative determiners\n",
    "    (r'[0-9].?[,\\/]?[0-9]*','NUM'), # Numbers \n",
    "        \n",
    "    (r'.*', 'NOUN')\n",
    "    ]\n",
    "\n",
    "    regex_based_tagger = nltk.RegexpTagger(patterns)\n",
    "\n",
    "    # trigram backed up by the regex tagger\n",
    "    trigram_regex_tagger = nltk.TrigramTagger(train_set, backoff = regex_based_tagger)\n",
    "    return trigram_regex_tagger.tag_sents([[(word)]])"
   ]
  },
  {
   "cell_type": "code",
   "execution_count": 189,
   "metadata": {},
   "outputs": [],
   "source": [
    "# modified viterbi with handling for unknown words using combination of trigram and regex tagger\n",
    "\n",
    "def Modified_Viterbi_Trigram_Tagger(words, train_bag = train_tagged_words):\n",
    "    state = []\n",
    "    T = list(set([pair[1] for pair in train_bag]))\n",
    "    \n",
    "    for key, word in enumerate(words):\n",
    "        # unknown words from trigram taggr\n",
    "        if word not in train_vocab_set:\n",
    "            unk_word_tag=trigram_tagger(word)\n",
    "            for sent in unk_word_tag:\n",
    "                for tup in sent:\n",
    "                    state.append(tup[1])\n",
    "        # rest remains same            \n",
    "        else:            \n",
    "            p = [] \n",
    "            for tag in T:\n",
    "                if key == 0:\n",
    "                    transition_p = tags_df.loc['.', tag]\n",
    "                else:\n",
    "                    transition_p = tags_df.loc[state[-1], tag]\n",
    "                \n",
    "            # compute emission and state probabilities\n",
    "                emission_p = word_given_tag(words[key], tag)[0]/word_given_tag(words[key], tag)[1]\n",
    "                state_probability = emission_p * transition_p    \n",
    "                p.append(state_probability)\n",
    "            \n",
    "            pmax = max(p)\n",
    "            # getting state for which probability is maximum\n",
    "            state_max = T[p.index(pmax)] \n",
    "            state.append(state_max)\n",
    "            \n",
    "    return list(zip(words, state))"
   ]
  },
  {
   "cell_type": "markdown",
   "metadata": {},
   "source": [
    "#### Evaluating tagging accuracy"
   ]
  },
  {
   "cell_type": "code",
   "execution_count": 190,
   "metadata": {},
   "outputs": [
    {
     "name": "stdout",
     "output_type": "stream",
     "text": [
      "Time taken in seconds:  125.32479453086853\n",
      "Modified Viterbi Trigram Tagger Accuracy:  98.4375\n"
     ]
    }
   ],
   "source": [
    "# tagging the test sentences\n",
    "start = time.time()\n",
    "tagged_seq = Modified_Viterbi_Trigram_Tagger(test_tagged_words)\n",
    "end = time.time()\n",
    "difference = end-start\n",
    "\n",
    "print(\"Time taken in seconds: \", difference)\n",
    "\n",
    "# accuracy\n",
    "Modified_viterbi_trigram_word_check = [i for i, j in zip(tagged_seq, test_run_base) if i == j] \n",
    "Modified_viterbi_trigram_accuracy = len(Modified_viterbi_trigram_word_check)/len(tagged_seq) * 100\n",
    "print('Modified Viterbi Trigram Tagger Accuracy: ', Modified_viterbi_trigram_accuracy)"
   ]
  },
  {
   "cell_type": "markdown",
   "metadata": {},
   "source": [
    "### Compare the tagging accuracies of the modifications with the vanilla Viterbi algorithm"
   ]
  },
  {
   "cell_type": "code",
   "execution_count": 191,
   "metadata": {},
   "outputs": [
    {
     "data": {
      "text/html": [
       "<div>\n",
       "<style scoped>\n",
       "    .dataframe tbody tr th:only-of-type {\n",
       "        vertical-align: middle;\n",
       "    }\n",
       "\n",
       "    .dataframe tbody tr th {\n",
       "        vertical-align: top;\n",
       "    }\n",
       "\n",
       "    .dataframe thead th {\n",
       "        text-align: right;\n",
       "    }\n",
       "</style>\n",
       "<table border=\"1\" class=\"dataframe\">\n",
       "  <thead>\n",
       "    <tr style=\"text-align: right;\">\n",
       "      <th></th>\n",
       "      <th>Accuracy_in_Percent</th>\n",
       "    </tr>\n",
       "    <tr>\n",
       "      <th>Tagging_Method</th>\n",
       "      <th></th>\n",
       "    </tr>\n",
       "  </thead>\n",
       "  <tbody>\n",
       "    <tr>\n",
       "      <th>Vanilla Viterbi</th>\n",
       "      <td>92.187500</td>\n",
       "    </tr>\n",
       "    <tr>\n",
       "      <th>Vanilla Viterbi Modified Technique 1</th>\n",
       "      <td>94.531250</td>\n",
       "    </tr>\n",
       "    <tr>\n",
       "      <th>Unigram Tagger</th>\n",
       "      <td>90.304220</td>\n",
       "    </tr>\n",
       "    <tr>\n",
       "      <th>Unigram  RegexpTagger</th>\n",
       "      <td>93.837095</td>\n",
       "    </tr>\n",
       "    <tr>\n",
       "      <th>Bigram Tagger</th>\n",
       "      <td>94.072620</td>\n",
       "    </tr>\n",
       "    <tr>\n",
       "      <th>Trigram Tagger</th>\n",
       "      <td>94.170756</td>\n",
       "    </tr>\n",
       "    <tr>\n",
       "      <th>Vanilla Viterbi Modified Technique 2</th>\n",
       "      <td>98.437500</td>\n",
       "    </tr>\n",
       "  </tbody>\n",
       "</table>\n",
       "</div>"
      ],
      "text/plain": [
       "                                      Accuracy_in_Percent\n",
       "Tagging_Method                                           \n",
       "Vanilla Viterbi                                 92.187500\n",
       "Vanilla Viterbi Modified Technique 1            94.531250\n",
       "Unigram Tagger                                  90.304220\n",
       "Unigram  RegexpTagger                           93.837095\n",
       "Bigram Tagger                                   94.072620\n",
       "Trigram Tagger                                  94.170756\n",
       "Vanilla Viterbi Modified Technique 2            98.437500"
      ]
     },
     "execution_count": 191,
     "metadata": {},
     "output_type": "execute_result"
    }
   ],
   "source": [
    "tag_accuracy = [['Vanilla Viterbi', plain_vanilla_viterbi_accuracy], \n",
    "                  ['Vanilla Viterbi Modified Technique 1', Modified_Viterbi_accuracy*100], \n",
    "                  ['Unigram Tagger', unigram_tagger_accuracy * 100],\n",
    "                  ['Unigram  RegexpTagger', rule_based_unigram_tagger_accuracy * 100],\n",
    "                  ['Bigram Tagger', bigram_tagger_accuracy*100],\n",
    "                  ['Trigram Tagger', trigram_tagger_accuracy*100],\n",
    "                  ['Vanilla Viterbi Modified Technique 2', Modified_viterbi_trigram_accuracy]]\n",
    "\n",
    "tag_accuracy_df = pd.DataFrame(tag_accuracy, columns = ['Tagging_Method', 'Accuracy_in_Percent'])\n",
    "\n",
    "tag_accuracy_df.set_index('Tagging_Method', drop = True, inplace = True)\n",
    "\n",
    "tag_accuracy_df"
   ]
  },
  {
   "cell_type": "markdown",
   "metadata": {},
   "source": [
    "### List down cases which were incorrectly tagged by original POS tagger and got corrected by your modifications"
   ]
  },
  {
   "cell_type": "code",
   "execution_count": 192,
   "metadata": {},
   "outputs": [],
   "source": [
    "import nltk"
   ]
  },
  {
   "cell_type": "code",
   "execution_count": 193,
   "metadata": {},
   "outputs": [
    {
     "name": "stderr",
     "output_type": "stream",
     "text": [
      "[nltk_data] Downloading package punkt to\n",
      "[nltk_data]     C:\\Users\\reach\\AppData\\Roaming\\nltk_data...\n",
      "[nltk_data]   Package punkt is already up-to-date!\n"
     ]
    },
    {
     "data": {
      "text/plain": [
       "True"
      ]
     },
     "execution_count": 193,
     "metadata": {},
     "output_type": "execute_result"
    }
   ],
   "source": [
    "nltk.download('punkt')"
   ]
  },
  {
   "cell_type": "code",
   "execution_count": 194,
   "metadata": {},
   "outputs": [
    {
     "name": "stdout",
     "output_type": "stream",
     "text": [
      "[('The', 'DET'), ('2018', 'CONJ'), ('FIFA', 'CONJ'), ('World', 'NOUN'), ('Cup', 'CONJ'), ('is', 'VERB'), ('the', 'DET'), ('21st', 'CONJ'), ('FIFA', 'CONJ'), ('World', 'NOUN'), ('Cup', 'CONJ'), (',', '.'), ('an', 'DET'), ('international', 'ADJ'), ('football', 'NOUN'), ('tournament', 'CONJ'), ('contested', 'CONJ'), ('once', 'ADV'), ('every', 'DET'), ('four', 'NUM'), ('years', 'NOUN'), ('.', '.')]\n"
     ]
    }
   ],
   "source": [
    "## Test Case - 1\n",
    "sentence = 'The 2018 FIFA World Cup is the 21st FIFA World Cup, an international football tournament contested once every four years.'\n",
    "words = word_tokenize(sentence)\n",
    "tagged_seq = Viterbi(words)\n",
    "print(tagged_seq)"
   ]
  },
  {
   "cell_type": "code",
   "execution_count": 195,
   "metadata": {},
   "outputs": [
    {
     "name": "stdout",
     "output_type": "stream",
     "text": [
      "[('The', 'DET'), ('2018', 'NUM'), ('FIFA', 'NOUN'), ('World', 'NOUN'), ('Cup', 'NOUN'), ('is', 'VERB'), ('the', 'DET'), ('21st', 'NUM'), ('FIFA', 'NOUN'), ('World', 'NOUN'), ('Cup', 'NOUN'), (',', '.'), ('an', 'DET'), ('international', 'ADJ'), ('football', 'NOUN'), ('tournament', 'NOUN'), ('contested', 'VERB'), ('once', 'ADV'), ('every', 'DET'), ('four', 'NUM'), ('years', 'NOUN'), ('.', '.')]\n"
     ]
    }
   ],
   "source": [
    "tagged_seq_modified = Modified_Viterbi_Trigram_Tagger(words)\n",
    "print(tagged_seq_modified)"
   ]
  },
  {
   "cell_type": "code",
   "execution_count": 196,
   "metadata": {},
   "outputs": [
    {
     "name": "stdout",
     "output_type": "stream",
     "text": [
      "[('NASA', 'CONJ'), ('invited', 'CONJ'), ('social', 'ADJ'), ('media', 'NOUN'), ('users', 'NOUN'), ('to', 'PRT'), ('experience', 'NOUN'), ('the', 'DET'), ('launch', 'NOUN'), ('of', 'ADP'), ('ICESAT-2', 'CONJ'), ('Satellite', 'CONJ'), ('.', '.')]\n"
     ]
    }
   ],
   "source": [
    "## Test Case - 2\n",
    "sentence = 'NASA invited social media users to experience the launch of ICESAT-2 Satellite.'\n",
    "words = word_tokenize(sentence)\n",
    "tagged_seq = Viterbi(words)\n",
    "print(tagged_seq)"
   ]
  },
  {
   "cell_type": "code",
   "execution_count": 197,
   "metadata": {},
   "outputs": [
    {
     "name": "stdout",
     "output_type": "stream",
     "text": [
      "[('NASA', 'NOUN'), ('invited', 'VERB'), ('social', 'ADJ'), ('media', 'NOUN'), ('users', 'NOUN'), ('to', 'PRT'), ('experience', 'NOUN'), ('the', 'DET'), ('launch', 'NOUN'), ('of', 'ADP'), ('ICESAT-2', 'NOUN'), ('Satellite', 'NOUN'), ('.', '.')]\n"
     ]
    }
   ],
   "source": [
    "tagged_seq_modified = Modified_Viterbi_Trigram_Tagger(words)\n",
    "print(tagged_seq_modified)"
   ]
  },
  {
   "cell_type": "code",
   "execution_count": 198,
   "metadata": {},
   "outputs": [
    {
     "name": "stdout",
     "output_type": "stream",
     "text": [
      "[('Android', 'CONJ'), ('has', 'VERB'), ('been', 'VERB'), ('the', 'DET'), ('best-selling', 'ADJ'), ('OS', 'CONJ'), ('worldwide', 'CONJ'), ('on', 'ADP'), ('smartphones', 'CONJ'), ('since', 'ADP'), ('2011', 'CONJ'), ('and', 'CONJ'), ('on', 'ADP'), ('tablets', 'NOUN'), ('since', 'ADP'), ('2013', 'CONJ'), ('.', '.')]\n"
     ]
    }
   ],
   "source": [
    "## Test Case - 3\n",
    "sentence = 'Android has been the best-selling OS worldwide on smartphones since 2011 and on tablets since 2013.'\n",
    "words = word_tokenize(sentence)\n",
    "tagged_seq = Viterbi(words)\n",
    "print(tagged_seq)"
   ]
  },
  {
   "cell_type": "code",
   "execution_count": 199,
   "metadata": {},
   "outputs": [
    {
     "name": "stdout",
     "output_type": "stream",
     "text": [
      "[('Android', 'NOUN'), ('has', 'VERB'), ('been', 'VERB'), ('the', 'DET'), ('best-selling', 'ADJ'), ('OS', 'NOUN'), ('worldwide', 'NOUN'), ('on', 'ADP'), ('smartphones', 'VERB'), ('since', 'ADP'), ('2011', 'NUM'), ('and', 'CONJ'), ('on', 'ADP'), ('tablets', 'NOUN'), ('since', 'ADP'), ('2013', 'NUM'), ('.', '.')]\n"
     ]
    }
   ],
   "source": [
    "tagged_seq_modified = Modified_Viterbi_Trigram_Tagger(words)\n",
    "print(tagged_seq_modified)"
   ]
  },
  {
   "cell_type": "markdown",
   "metadata": {},
   "source": [
    "## Conclusion :::"
   ]
  },
  {
   "cell_type": "markdown",
   "metadata": {},
   "source": [
    "<i><b> We can observe by testing the sample sentences with plain vanilla viterbi and modified viterbi that many numbers like 2011, 2013, 21st were identified as CONJ before but later on were identified as numbers where as many nouns like 'ICESAT-2', 'Android' has been identified as nouns later on. </b> </i>"
   ]
  },
  {
   "cell_type": "code",
   "execution_count": null,
   "metadata": {},
   "outputs": [],
   "source": []
  }
 ],
 "metadata": {
  "kernelspec": {
   "display_name": "Python 3",
   "language": "python",
   "name": "python3"
  },
  "language_info": {
   "codemirror_mode": {
    "name": "ipython",
    "version": 3
   },
   "file_extension": ".py",
   "mimetype": "text/x-python",
   "name": "python",
   "nbconvert_exporter": "python",
   "pygments_lexer": "ipython3",
   "version": "3.6.10"
  }
 },
 "nbformat": 4,
 "nbformat_minor": 2
}
